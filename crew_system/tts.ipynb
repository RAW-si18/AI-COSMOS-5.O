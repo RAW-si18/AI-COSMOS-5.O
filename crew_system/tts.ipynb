{
 "cells": [
  {
   "cell_type": "code",
   "execution_count": 12,
   "id": "ccdb3eea-3ddb-4584-98d2-a0ca15d5d064",
   "metadata": {},
   "outputs": [
    {
     "name": "stdout",
     "output_type": "stream",
     "text": [
      " > Text split to sentences.\n",
      "Hi! I am cosmos, Ryan's Personal assisstant and currently i am building my fifth version.\n",
      " > ===========================\n"
     ]
    },
    {
     "name": "stderr",
     "output_type": "stream",
     "text": [
      "100%|████████████████████████████████████████████████████████████████████████████████████████████████████████████████████| 1/1 [00:00<00:00,  4.60it/s]\n"
     ]
    },
    {
     "name": "stdout",
     "output_type": "stream",
     "text": [
      " > Text split to sentences.\n",
      "Hi! I am cosmos, Ryan's Personal assisstant and currently i am building my fifth version.\n",
      " > ===========================\n"
     ]
    },
    {
     "name": "stderr",
     "output_type": "stream",
     "text": [
      "100%|████████████████████████████████████████████████████████████████████████████████████████████████████████████████████| 1/1 [00:00<00:00,  5.11it/s]\n"
     ]
    },
    {
     "name": "stdout",
     "output_type": "stream",
     "text": [
      " > Text split to sentences.\n",
      "Hi! I am cosmos, Ryan's Personal assisstant and currently i am building my fifth version.\n",
      " > ===========================\n"
     ]
    },
    {
     "name": "stderr",
     "output_type": "stream",
     "text": [
      "100%|████████████████████████████████████████████████████████████████████████████████████████████████████████████████████| 1/1 [00:00<00:00,  5.34it/s]\n"
     ]
    },
    {
     "name": "stdout",
     "output_type": "stream",
     "text": [
      " > Text split to sentences.\n",
      "Hi! I am cosmos, Ryan's Personal assisstant and currently i am building my fifth version.\n",
      " > ===========================\n"
     ]
    },
    {
     "name": "stderr",
     "output_type": "stream",
     "text": [
      "100%|████████████████████████████████████████████████████████████████████████████████████████████████████████████████████| 1/1 [00:00<00:00,  4.85it/s]\n"
     ]
    },
    {
     "name": "stdout",
     "output_type": "stream",
     "text": [
      " > Text split to sentences.\n",
      "Hi! I am cosmos, Ryan's Personal assisstant and currently i am building my fifth version.\n",
      " > ===========================\n"
     ]
    },
    {
     "name": "stderr",
     "output_type": "stream",
     "text": [
      "100%|████████████████████████████████████████████████████████████████████████████████████████████████████████████████████| 1/1 [00:00<00:00,  5.85it/s]\n"
     ]
    }
   ],
   "source": [
    "import sys\n",
    "sys.path.append('/home/raw/coding/cosmos/AI-COSMOS-5.O/data_store/model')\n",
    "from melo.api import TTS\n",
    "\n",
    "from melo.api import TTS\n",
    "\n",
    "# Speed is adjustable\n",
    "speed = 1.0\n",
    "\n",
    "# CPU is sufficient for real-time inference.\n",
    "# You can set it manually to 'cpu' or 'cuda' or 'cuda:0' or 'mps'\n",
    "device = 'auto' # Will automatically use GPU if available\n",
    "\n",
    "# English \n",
    "text = \"Hi! I am cosmos, Ryan's Personal assisstant and currently i am building my fifth version.\"\n",
    "model = TTS(language='EN', device=device)\n",
    "speaker_ids = model.hps.data.spk2id\n",
    "\n",
    "# American accent\n",
    "output_path = r'/home/raw/coding/cosmos/AI-COSMOS-5.O/data_store/audio_files/cosmos_voice_0.wav'\n",
    "model.tts_to_file(text, speaker_ids['EN-US'], output_path, speed=1.1) # calm\n",
    "\n",
    "# British accent\n",
    "output_path = r'/home/raw/coding/cosmos/AI-COSMOS-5.O/data_store/audio_files/cosmos_voice_1.wav'\n",
    "model.tts_to_file(text, speaker_ids['EN-BR'], output_path, speed=speed) # energetic\n",
    "\n",
    "# Indian accent\n",
    "output_path = r'/home/raw/coding/cosmos/AI-COSMOS-5.O/data_store/audio_files/cosmos_voice_2.wav'\n",
    "model.tts_to_file(text, speaker_ids['EN_INDIA'], output_path, speed=speed) # \n",
    "\n",
    "# Australian accent\n",
    "output_path = r'/home/raw/coding/cosmos/AI-COSMOS-5.O/data_store/audio_files/cosmos_voice_3.wav'\n",
    "model.tts_to_file(text, speaker_ids['EN-AU'], output_path, speed=speed)\n",
    "\n",
    "# Default accent\n",
    "output_path = r'/home/raw/coding/cosmos/AI-COSMOS-5.O/data_store/audio_files/cosmos_voice_4.wav'\n",
    "model.tts_to_file(text, speaker_ids['EN-Default'], output_path, speed=speed)"
   ]
  },
  {
   "cell_type": "code",
   "execution_count": null,
   "id": "3eefe2cd-990b-49bb-9f0f-edb90b725806",
   "metadata": {},
   "outputs": [],
   "source": []
  }
 ],
 "metadata": {
  "kernelspec": {
   "display_name": "Python 3 (ipykernel)",
   "language": "python",
   "name": "python3"
  },
  "language_info": {
   "codemirror_mode": {
    "name": "ipython",
    "version": 3
   },
   "file_extension": ".py",
   "mimetype": "text/x-python",
   "name": "python",
   "nbconvert_exporter": "python",
   "pygments_lexer": "ipython3",
   "version": "3.12.7"
  }
 },
 "nbformat": 4,
 "nbformat_minor": 5
}
