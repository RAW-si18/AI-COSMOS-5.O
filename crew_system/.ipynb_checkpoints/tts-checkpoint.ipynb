{
 "cells": [
  {
   "cell_type": "code",
   "execution_count": 7,
   "id": "ccdb3eea-3ddb-4584-98d2-a0ca15d5d064",
   "metadata": {},
   "outputs": [
    {
     "name": "stderr",
     "output_type": "stream",
     "text": [
      "/home/raw/coding/.venv/lib/python3.12/site-packages/torch/nn/utils/weight_norm.py:134: FutureWarning: `torch.nn.utils.weight_norm` is deprecated in favor of `torch.nn.utils.parametrizations.weight_norm`.\n",
      "  WeightNorm.apply(module, name, dim)\n",
      "/home/raw/coding/cosmos/AI-COSMOS-5.O/data_store/model/melo/download_utils.py:64: FutureWarning: You are using `torch.load` with `weights_only=False` (the current default value), which uses the default pickle module implicitly. It is possible to construct malicious pickle data which will execute arbitrary code during unpickling (See https://github.com/pytorch/pytorch/blob/main/SECURITY.md#untrusted-models for more details). In a future release, the default value for `weights_only` will be flipped to `True`. This limits the functions that could be executed during unpickling. Arbitrary objects will no longer be allowed to be loaded via this mode unless they are explicitly allowlisted by the user via `torch.serialization.add_safe_globals`. We recommend you start setting `weights_only=True` for any use case where you don't have full control of the loaded file. Please open an issue on GitHub for any issues related to this experimental feature.\n",
      "  return torch.load(ckpt_path, map_location=device)\n"
     ]
    },
    {
     "name": "stdout",
     "output_type": "stream",
     "text": [
      " > Text split to sentences.\n",
      "Hi! I am cosmos, Ryan's Personal assisstant and currently i am building my fifth version.\n",
      " > ===========================\n"
     ]
    },
    {
     "name": "stderr",
     "output_type": "stream",
     "text": [
      "100%|████████████████████████████████████████████████████████████████████████████████████████████████████████████████████| 1/1 [00:00<00:00,  4.44it/s]\n"
     ]
    }
   ],
   "source": [
    "import sys\n",
    "sys.path.append('/home/raw/coding/cosmos/AI-COSMOS-5.O/data_store/model')\n",
    "from melo.api import TTS\n",
    "\n",
    "from melo.api import TTS\n",
    "\n",
    "# Speed is adjustable\n",
    "speed = 1.0\n",
    "\n",
    "# CPU is sufficient for real-time inference.\n",
    "# You can set it manually to 'cpu' or 'cuda' or 'cuda:0' or 'mps'\n",
    "device = 'auto' # Will automatically use GPU if available\n",
    "\n",
    "# English \n",
    "text = \"Hi! I am cosmos, Ryan's Personal assisstant and currently i am building my fifth version.\"\n",
    "model = TTS(language='EN', device=device)\n",
    "speaker_ids = model.hps.data.spk2id\n",
    "\n",
    "# American accent\n",
    "output_path = r'/home/raw/coding/cosmos/AI-COSMOS-5.O/data_store/audio_files/cosmos_voice.wav'\n",
    "model.tts_to_file(text, speaker_ids['EN-US'], output_path, speed=speed)\n",
    "\n",
    "# British accent\n",
    "# model.tts_to_file(text, speaker_ids['EN-BR'], output_path, speed=speed)\n",
    "\n",
    "# Indian accent\n",
    "# model.tts_to_file(text, speaker_ids['EN_INDIA'], output_path, speed=speed)\n",
    "\n",
    "# Australian accent\n",
    "# model.tts_to_file(text, speaker_ids['EN-AU'], output_path, speed=speed)\n",
    "\n",
    "# Default accent\n",
    "# model.tts_to_file(text, speaker_ids['EN-Default'], output_path, speed=speed)"
   ]
  },
  {
   "cell_type": "code",
   "execution_count": null,
   "id": "3eefe2cd-990b-49bb-9f0f-edb90b725806",
   "metadata": {},
   "outputs": [],
   "source": []
  }
 ],
 "metadata": {
  "kernelspec": {
   "display_name": "Python 3 (ipykernel)",
   "language": "python",
   "name": "python3"
  },
  "language_info": {
   "codemirror_mode": {
    "name": "ipython",
    "version": 3
   },
   "file_extension": ".py",
   "mimetype": "text/x-python",
   "name": "python",
   "nbconvert_exporter": "python",
   "pygments_lexer": "ipython3",
   "version": "3.12.7"
  }
 },
 "nbformat": 4,
 "nbformat_minor": 5
}
